{
 "cells": [
  {
   "cell_type": "code",
   "execution_count": 5,
   "id": "c7a8b094",
   "metadata": {},
   "outputs": [],
   "source": [
    "# Configbox Demo\n",
    "d = {\"name\":\"abhimanyu\",\"tech\":\"python\",\"experience\":\"6\"}"
   ]
  },
  {
   "cell_type": "code",
   "execution_count": null,
   "id": "49919243",
   "metadata": {},
   "outputs": [],
   "source": [
    "# d.name\n",
    "# # Thows AttributeError: 'dict' object has no attribute 'name'"
   ]
  },
  {
   "cell_type": "code",
   "execution_count": 8,
   "id": "cacbc3f9",
   "metadata": {},
   "outputs": [
    {
     "name": "stdout",
     "output_type": "stream",
     "text": [
      "abhimanyu\n",
      "<class 'box.config_box.ConfigBox'>\n"
     ]
    }
   ],
   "source": [
    "from box import ConfigBox\n",
    "d2 = ConfigBox(d)\n",
    "print(d2.name)\n",
    "print(type(d2))"
   ]
  },
  {
   "cell_type": "code",
   "execution_count": null,
   "id": "47386922",
   "metadata": {},
   "outputs": [],
   "source": []
  }
 ],
 "metadata": {
  "kernelspec": {
   "display_name": "waste-classifier",
   "language": "python",
   "name": "python3"
  },
  "language_info": {
   "codemirror_mode": {
    "name": "ipython",
    "version": 3
   },
   "file_extension": ".py",
   "mimetype": "text/x-python",
   "name": "python",
   "nbconvert_exporter": "python",
   "pygments_lexer": "ipython3",
   "version": "3.12.9"
  }
 },
 "nbformat": 4,
 "nbformat_minor": 5
}
